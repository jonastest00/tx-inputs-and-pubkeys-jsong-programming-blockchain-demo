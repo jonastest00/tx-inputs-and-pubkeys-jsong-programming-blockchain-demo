{
 "cells": [
  {
   "cell_type": "markdown",
   "metadata": {},
   "source": [
    "# Inputs and PubKeys"
   ]
  },
  {
   "cell_type": "markdown",
   "metadata": {},
   "source": [
    "Example of how to look up a transaction using fetch_tx() method\n",
    "\n",
    "```python\n",
    "from tx import TxIn\n",
    "\n",
    "prev_tx = bytes.fromhex('d1c789a9c60383bf715f3f6ad9d14b91fe55f3deb369fe5d9280cb1a01793f81') \n",
    "tx_in = TxIn(prev_tx, 0, b'', 0xffffffff)\n",
    "print(tx_in.fetch_tx())\n",
    "```"
   ]
  },
  {
   "cell_type": "markdown",
   "metadata": {},
   "source": [
    "### Exercise\n",
    "\n",
    "\n",
    "#### What is the value and scriptPubKey of the 0th output of this transaction?\n",
    "```\n",
    "d1c789a9c60383bf715f3f6ad9d14b91fe55f3deb369fe5d9280cb1a01793f81\n",
    "```"
   ]
  },
  {
   "cell_type": "code",
   "execution_count": null,
   "metadata": {},
   "outputs": [],
   "source": [
    "# Exercise 4.1\n",
    "\n",
    "from tx import TxIn\n",
    "\n",
    "prev_tx = bytes.fromhex('d1c789a9c60383bf715f3f6ad9d14b91fe55f3deb369fe5d9280cb1a01793f81') \n",
    "prev_index = 0\n",
    "\n",
    "# create the transaction input (use blank script_sig and 0xffffffff for sequence)\n",
    "# fetch the transaction\n",
    "# grab the output at the index\n",
    "# show the amount\n",
    "# show the script_pubkey"
   ]
  },
  {
   "cell_type": "markdown",
   "metadata": {},
   "source": [
    "### Test Driven Exercise\n",
    "\n",
    "\n",
    "#### Bonus:\n",
    "#### Cache the requests so that you don't hit blockcypher.com multiple times for the same transaction output."
   ]
  },
  {
   "cell_type": "code",
   "execution_count": null,
   "metadata": {},
   "outputs": [],
   "source": [
    "from tx import TxIn\n",
    "\n",
    "class TxIn(TxIn):\n",
    "\n",
    "    def value(self, testnet=False):\n",
    "        '''Get the outpoint value by looking up the tx hash on libbitcoin server\n",
    "        Returns the amount in satoshi\n",
    "        '''\n",
    "        # use self.fetch_tx to get the transaction\n",
    "        # get the output at self.prev_index\n",
    "        # return the amount property\n",
    "        pass\n",
    "\n",
    "    def script_pubkey(self, testnet=False):\n",
    "        '''Get the scriptPubKey by looking up the tx hash on libbitcoin server\n",
    "        Returns the binary scriptpubkey\n",
    "        '''\n",
    "        # use self.fetch_tx to get the transaction\n",
    "        # get the output at self.prev_index\n",
    "        # return the script_pubkey property\n",
    "        pass"
   ]
  }
 ],
 "metadata": {
  "kernelspec": {
   "display_name": "Python 3",
   "language": "python",
   "name": "python3"
  },
  "language_info": {
   "codemirror_mode": {
    "name": "ipython",
    "version": 3
   },
   "file_extension": ".py",
   "mimetype": "text/x-python",
   "name": "python",
   "nbconvert_exporter": "python",
   "pygments_lexer": "ipython3",
   "version": "3.6.4"
  }
 },
 "nbformat": 4,
 "nbformat_minor": 2
}
